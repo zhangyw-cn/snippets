{
 "cells": [
  {
   "cell_type": "markdown",
   "id": "afbc495a",
   "metadata": {},
   "source": [
    "# 创建矩阵\n",
    "对于python中的numpy模块，一般用其提供的ndarray对象。创建一个ndarray对象很简单，只要将一个list作为参数即可。"
   ]
  },
  {
   "cell_type": "code",
   "execution_count": null,
   "id": "aae3174b",
   "metadata": {},
   "outputs": [],
   "source": [
    "\n",
    "import numpy as np\n",
    "\n",
    "# 创建一维的narray对象\n",
    "a = np.array([1,2,3,4,5])\n",
    "#创建二维的narray对象\n",
    "a2 = np.array([[1,2,3,4,5],[6,7,8,9,10]])\n",
    "#创建多维对象以其类推"
   ]
  },
  {
   "cell_type": "markdown",
   "id": "e67d5385",
   "metadata": {},
   "source": [
    "# 获取矩阵行数列数（二维情况）\n",
    "习惯了采用matlab进行数模的编程，要对矩阵进行遍历时，一般先获取矩阵的行数和列数。要获取narray对象的各维的长度，可以通过narray对象的shape属性"
   ]
  },
  {
   "cell_type": "code",
   "execution_count": null,
   "id": "1a0f838b",
   "metadata": {},
   "outputs": [],
   "source": [
    "import numpy as np\n",
    "\n",
    "a = np.array([[1,2,3,4,5],[6,7,8,9,10]])\n",
    "\n",
    "print(a.shape) #结果返回一个tuple元组 (2L, 5L)\n",
    "print(a.shape[0]) #获得行数，返回 2\n",
    "print(a.shape[1]) #获得列数，返回 5"
   ]
  },
  {
   "cell_type": "markdown",
   "id": "29e1356d",
   "metadata": {},
   "source": [
    "# 矩阵的截取 "
   ]
  },
  {
   "cell_type": "markdown",
   "id": "a9a9f880",
   "metadata": {},
   "source": [
    "## 按行列截取\n",
    "矩阵的截取和list相同，可以通过[]（方括号）来截取"
   ]
  },
  {
   "cell_type": "code",
   "execution_count": null,
   "id": "ced33c0a",
   "metadata": {},
   "outputs": [],
   "source": [
    "\n",
    "import numpy as np\n",
    "\n",
    "a = np.array([[1,2,3,4,5],[6,7,8,9,10]])\n",
    "\n",
    "print(a[0:1]) #截取第一行,返回 [[1 2 3 4 5]]\n",
    "print(a[1,2:5]) #截取第二行，第三、四、五列，返回 [8 9 10]\n",
    "print(a[1,:]) #截取第二行,返回 [ 6  7  8  9 10]\n",
    "\n",
    "\n",
    "\n",
    "\n",
    "\n",
    "# \n",
    "# \n",
    "a = np.array([[1,2,3,4,5],[6,7,8,9,10]])\n",
    "print(a)\n",
    "#开始矩阵为\n",
    "# [[ 1  2  3  4  5]\n",
    "#  [ 6  7  8  9 10]]\n",
    "\n",
    "a[a>6] = 0\n",
    "print(a)\n",
    "#大于6清零后矩阵为\n",
    "# [[1 2 3 4 5]\n",
    "#  [6 0 0 0 0]]"
   ]
  },
  {
   "cell_type": "markdown",
   "id": "572d21f9",
   "metadata": {},
   "source": [
    "## 按条件截取\n",
    "按条件截取其实是在[]（方括号）中传入自身的布尔语句"
   ]
  },
  {
   "cell_type": "code",
   "execution_count": null,
   "id": "06dd826a",
   "metadata": {},
   "outputs": [],
   "source": [
    "import numpy as np\n",
    "\n",
    "a = np.array([[1,2,3,4,5],[6,7,8,9,10]])\n",
    "\n",
    "b = a[a>6] # 截取矩阵a中大于6的元素，范围的是一维数组\n",
    "print(b) # 返回 [ 7  8  9 10]\n",
    "# 其实布尔语句首先生成一个布尔矩阵，将布尔矩阵传入[]（方括号）实现截取\n",
    "print(a>6) \n",
    "# 返回\n",
    "# [[False False False False False]\n",
    "#  [False  True  True  True  True]]"
   ]
  },
  {
   "cell_type": "markdown",
   "id": "fc3dec04",
   "metadata": {},
   "source": [
    "按条件截取应用较多的是对矩阵中满足一定条件的元素变成特定的值。例如将矩阵中大于6的元素变成0。"
   ]
  },
  {
   "cell_type": "code",
   "execution_count": null,
   "id": "d24504f1",
   "metadata": {},
   "outputs": [],
   "source": [
    "import numpy as np\n",
    "\n",
    "a = np.array([[1,2,3,4,5],[6,7,8,9,10]])\n",
    "print(a)\n",
    "#开始矩阵为\n",
    "# [[ 1  2  3  4  5]\n",
    "#  [ 6  7  8  9 10]]\n",
    "\n",
    "a[a>6] = 0\n",
    "print(a)\n",
    "#大于6清零后矩阵为\n",
    "# [[1 2 3 4 5]\n",
    "#  [6 0 0 0 0]]"
   ]
  },
  {
   "cell_type": "markdown",
   "id": "b243f74b",
   "metadata": {},
   "source": [
    "# 矩阵的合并\n",
    "矩阵的合并可以通过numpy中的hstack方法和vstack方法实现"
   ]
  },
  {
   "cell_type": "code",
   "execution_count": null,
   "id": "20db8416",
   "metadata": {},
   "outputs": [],
   "source": [
    "import numpy as np\n",
    "\n",
    "a1 = np.array([[1,2],[3,4]])\n",
    "a2 = np.array([[5,6],[7,8]])\n",
    "\n",
    "#!注意 参数传入时要以列表list或元组tuple的形式传入\n",
    "print(np.hstack([a1,a2])) \n",
    "#横向合并，返回结果如下 \n",
    "# [[1 2 5 6]\n",
    "#  [3 4 7 8]]\n",
    "\n",
    "print(np.vstack((a1,a2)))\n",
    "#纵向合并，返回结果如下\n",
    "# [[1 2]\n",
    "#  [3 4]\n",
    "#  [5 6]\n",
    "#  [7 8]]"
   ]
  },
  {
   "cell_type": "markdown",
   "id": "8dbf94ba",
   "metadata": {},
   "source": [
    "矩阵的合并也可以通过concatenatef方法。\n",
    "- np.concatenate( (a1,a2), axis=0 )  等价于  np.vstack( (a1,a2) )\n",
    "- np.concatenate( (a1,a2), axis=1 )  等价于  np.hstack( (a1,a2) )"
   ]
  },
  {
   "cell_type": "markdown",
   "id": "b77156a4",
   "metadata": {},
   "source": [
    "# 通过函数创建矩阵\n",
    "numpy模块中自带了一些创建ndarray对象的函数，可以很方便的创建常用的或有规律的矩阵。"
   ]
  },
  {
   "cell_type": "markdown",
   "id": "4907df7d",
   "metadata": {},
   "source": [
    "## arange\n",
    "根据步长创建矩阵"
   ]
  },
  {
   "cell_type": "code",
   "execution_count": null,
   "id": "e09049c8",
   "metadata": {},
   "outputs": [],
   "source": [
    "import numpy as np\n",
    "\n",
    "a = np.arange(10) # 默认从0开始到10（不包括10），步长为1\n",
    "print(a) # 返回 [0 1 2 3 4 5 6 7 8 9]\n",
    "\n",
    "a1 = np.arange(5,10) # 从5开始到10（不包括10），步长为1\n",
    "print(a1) # 返回 [5 6 7 8 9]\n",
    "\n",
    "a2 = np.arange(5,20,2) # 从5开始到20（不包括20），步长为2\n",
    "print(a2) # 返回 [ 5  7  9 11 13 15 17 19]"
   ]
  },
  {
   "cell_type": "markdown",
   "id": "3d9123a2",
   "metadata": {},
   "source": [
    "## linspace\n",
    "两数间指定数量\n",
    "\n",
    "linspace()和matlab的linspace很类似，用于创建指定数量等间隔的序列，实际生成一个等差数列。"
   ]
  },
  {
   "cell_type": "code",
   "execution_count": null,
   "id": "5e061cd5",
   "metadata": {},
   "outputs": [],
   "source": [
    "import numpy as np\n",
    "\n",
    "a = np.linspace(0,10,7) # 生成首位是0，末位是10，含7个数的等差数列\n",
    "print(a) \n",
    "# 结果 \n",
    "# [  0.           1.66666667   3.33333333   5.         6.66666667  8.33333333  10.        ]"
   ]
  },
  {
   "cell_type": "markdown",
   "id": "6b80035f",
   "metadata": {},
   "source": [
    "## logspace\n",
    "linspace用于生成等差数列，而logspace用于生成等比数列。\n",
    "下面的例子用于生成首位是$10^0$，末位是$10^2$，含5个数的等比数列。"
   ]
  },
  {
   "cell_type": "code",
   "execution_count": null,
   "id": "097287c4",
   "metadata": {},
   "outputs": [],
   "source": [
    "import numpy as np\n",
    "\n",
    "a = np.logspace(0,2,5)\n",
    "print(a)\n",
    "# 结果\n",
    "# [   1.      3.16227766   10.           31.6227766   100.  ]"
   ]
  },
  {
   "cell_type": "markdown",
   "id": "aaa02dfa",
   "metadata": {},
   "source": [
    "## ones、zeros、eye、empty\n",
    "- ones创建全1矩阵\n",
    "- zeros创建全0矩阵\n",
    "- eye创建单位矩阵\n",
    "- empty创建空矩阵（实际有值）"
   ]
  },
  {
   "cell_type": "code",
   "execution_count": null,
   "id": "4202404f",
   "metadata": {},
   "outputs": [],
   "source": [
    "import numpy as np\n",
    "\n",
    "a_ones = np.ones((3,4)) # 创建3*4的全1矩阵\n",
    "print(a_ones)\n",
    "# 结果\n",
    "# [[ 1.  1.  1.  1.]\n",
    "#  [ 1.  1.  1.  1.]\n",
    "#  [ 1.  1.  1.  1.]]\n",
    "\n",
    "a_zeros = np.zeros((3,4)) # 创建3*4的全0矩阵\n",
    "print(a_zeros)\n",
    "# 结果\n",
    "# [[ 0.  0.  0.  0.]\n",
    "#  [ 0.  0.  0.  0.]\n",
    "#  [ 0.  0.  0.  0.]]\n",
    "\n",
    "a_eye = np.eye(3) # 创建3阶单位矩阵\n",
    "print(a_eye)\n",
    "# 结果\n",
    "# [ 1.  0.  0.]\n",
    "#  [ 0.  1.  0.]\n",
    "#  [ 0.  0.  1.]]\n",
    "\n",
    "a_empty = np.empty((3,4)) # 创建3*4的空矩阵 \n",
    "print(a_empty)\n",
    "# 结果\n",
    "# [[  1.78006111e-306  -3.13259416e-294   4.71524461e-309   1.94927842e+289]\n",
    "#  [  2.10230387e-309   5.42870216e+294   6.73606381e-310   3.82265219e-297]\n",
    "#  [  6.24242356e-309   1.07034394e-296   2.12687797e+183   6.88703165e-315]]"
   ]
  },
  {
   "cell_type": "markdown",
   "id": "61b9ec55",
   "metadata": {},
   "source": [
    "## frombuffer\n",
    "frombuffer()方法可以将字符串转化成ndarray对象，需要将字符串数字化时这个方法比较有用，例如获得字符串的ascii码序列。"
   ]
  },
  {
   "cell_type": "code",
   "execution_count": null,
   "id": "4fbc88d4",
   "metadata": {},
   "outputs": [],
   "source": [
    "import numpy as np\n",
    "\n",
    "a = b\"abcdef\"\n",
    "b = np.frombuffer(a,dtype=np.int8) # 因为一个字符为8为，所以指定dtype为np.int8\n",
    "print(b) # 返回 [ 97  98  99 100 101 102]"
   ]
  },
  {
   "cell_type": "markdown",
   "id": "01588a54",
   "metadata": {},
   "source": [
    "## fromfunction \n",
    "fromfunction()方法可以根据矩阵的行号列号生成矩阵的元素。例如创建一个矩阵，矩阵中的每个元素都为行号和列号的和。"
   ]
  },
  {
   "cell_type": "code",
   "execution_count": null,
   "id": "608760af",
   "metadata": {},
   "outputs": [],
   "source": [
    "import numpy as np\n",
    "\n",
    "#注意这里行号的列号都是从0开始的\n",
    "def func(i,j): \n",
    "    return i+j\n",
    "\n",
    "a = np.fromfunction(func,(5,6)) \n",
    "# 第一个参数为指定函数，第二个参数为列表list或元组tuple,说明矩阵的大小\n",
    "print(a)\n",
    "# 返回\n",
    "# [[ 0.  1.  2.  3.  4.  5.]\n",
    "#  [ 1.  2.  3.  4.  5.  6.]\n",
    "#  [ 2.  3.  4.  5.  6.  7.]\n",
    "#  [ 3.  4.  5.  6.  7.  8.]\n",
    "#  [ 4.  5.  6.  7.  8.  9.]]\n"
   ]
  },
  {
   "cell_type": "markdown",
   "id": "321b857c",
   "metadata": {},
   "source": [
    "# 矩阵的运算"
   ]
  },
  {
   "cell_type": "markdown",
   "id": "55de274d",
   "metadata": {},
   "source": [
    "## 常用矩阵运算符\n",
    "numpy中的ndarray对象重载了许多运算符，使用这些运算符可以完成矩阵间对应元素的运算。\n",
    "| 运算符 | 说明 |\n",
    "|:- |:- |\n",
    "| + | 矩阵对应元素相加 |\n",
    "| - | 矩阵对应元素相减 |\n",
    "| * | 矩阵对应元素相乘 |\n",
    "| / | 矩阵对应元素相除，如果都是整数则取商 |\n",
    "| % | 矩阵对应元素相除后取余数 |\n",
    "| ** | 矩阵每个元素都取n次方，如**2：每个元素都取平方 |"
   ]
  },
  {
   "cell_type": "code",
   "execution_count": null,
   "id": "0859f984",
   "metadata": {},
   "outputs": [],
   "source": [
    "import numpy as np\n",
    "a1 = np.array([[4,5,6],[1,2,3]])\n",
    "a2 = np.array([[6,5,4],[3,2,1]])\n",
    "\n",
    "print(a1+a2) # 相加\n",
    "# 结果\n",
    "# [[10 10 10]\n",
    "#  [ 4  4  4]]\n",
    "\n",
    "print(a1/a2) # 整数相除取商\n",
    "# 结果\n",
    "# [[0 1 1]\n",
    "#  [0 1 3]]\n",
    "\n",
    "print(a1%a2) # 相除取余数\n",
    "# 结果\n",
    "# [[4 0 2]\n",
    "#  [1 0 0]]"
   ]
  },
  {
   "cell_type": "markdown",
   "id": "fc0c11db",
   "metadata": {},
   "source": [
    "## 常用矩阵函数\n",
    "同样地，numpy中也定义了许多函数，使用这些函数可以将函数作用于矩阵中的每个元素。表格中默认导入了numpy模块，即 `import numpy as np`。a为ndarray对象。\n",
    "| 矩阵函数 | 说明 |\n",
    "|:- |:- |\n",
    "| np.sin(a) | 对矩阵a中每个元素取正弦,sin(x) |\n",
    "| np.cos(a) | 对矩阵a中每个元素取余弦,cos(x) |\n",
    "| np.tan(a) | 对矩阵a中每个元素取正切,tan(x) |\n",
    "| np.arcsin(a) | 对矩阵a中每个元素取反正弦,arcsin(x) |\n",
    "| np.arccos(a) | 对矩阵a中每个元素取反余弦,arccos(x) |\n",
    "| np.arctan(a) | 对矩阵a中每个元素取反正切,arctan(x) |\n",
    "| np.exp(a) | 对矩阵a中每个元素取指数函数,$e^x$ |\n",
    "| np.sqrt(a) | 对矩阵a中每个元素开根号√x |"
   ]
  },
  {
   "cell_type": "code",
   "execution_count": null,
   "id": "8ec39323",
   "metadata": {},
   "outputs": [],
   "source": [
    "import numpy as np\n",
    "\n",
    "a = np.array([[1,2,3],[4,5,6]])\n",
    "print(np.sin(a))\n",
    "# 结果\n",
    "# [[ 0.84147098  0.90929743  0.14112001]\n",
    "#  [-0.7568025  -0.95892427 -0.2794155 ]]\n",
    "\n",
    "print(np.arcsin(a))\n",
    "# 结果。矩阵中的元素不在定义域范围内，会产生RuntimeWarning，结果为nan(not a number)。\n",
    "# [[ 1.57079633         nan         nan]\n",
    "#  [        nan         nan         nan]]"
   ]
  },
  {
   "cell_type": "markdown",
   "id": "d7c21c80",
   "metadata": {},
   "source": [
    "## 矩阵乘法（点乘）\n",
    "矩阵乘法必须满足矩阵乘法的条件，即第一个矩阵的列数等于第二个矩阵的行数。矩阵乘法的函数为 `dot`。"
   ]
  },
  {
   "cell_type": "code",
   "execution_count": null,
   "id": "473d9da3",
   "metadata": {},
   "outputs": [],
   "source": [
    "import numpy as np\n",
    "\n",
    "a1 = np.array([[1,2,3],[4,5,6]]) # a1为2*3矩阵\n",
    "a2 = np.array([[1,2],[3,4],[5,6]]) # a2为3*2矩阵\n",
    "\n",
    "print(a1.shape[1]==a2.shape[0]) # True, 满足矩阵乘法条件\n",
    "print(a1.dot(a2)) \n",
    "# a1.dot(a2)相当于matlab中的a1*a2\n",
    "# 而python中的a1*a2相当于matlab中的a1.*a2\n",
    "# 结果\n",
    "# [[22 28]\n",
    "#  [49 64]] "
   ]
  },
  {
   "cell_type": "markdown",
   "id": "a98f0366",
   "metadata": {},
   "source": [
    "## 矩阵的转置"
   ]
  },
  {
   "cell_type": "code",
   "execution_count": null,
   "id": "40a7d964",
   "metadata": {},
   "outputs": [],
   "source": [
    "import numpy as np\n",
    "\n",
    "a = np.array([[1,2,3],[4,5,6]])\n",
    "\n",
    "print(a.transpose())\n",
    "# 结果\n",
    "# [[1 4]\n",
    "#  [2 5]\n",
    "#  [3 6]]"
   ]
  },
  {
   "cell_type": "markdown",
   "id": "b8b1817e",
   "metadata": {},
   "source": [
    " 矩阵的转置还有更简单的方法，就是a.T"
   ]
  },
  {
   "cell_type": "code",
   "execution_count": null,
   "id": "747fce77",
   "metadata": {},
   "outputs": [],
   "source": [
    "import numpy as np\n",
    "\n",
    "a = np.array([[1,2,3],[4,5,6]])\n",
    "print(a.T)\n",
    "# 结果\n",
    "# [[1 4]\n",
    "#  [2 5]\n",
    "#  [3 6]]"
   ]
  },
  {
   "cell_type": "markdown",
   "id": "8aaebd2e",
   "metadata": {},
   "source": [
    "## 矩阵的逆\n",
    "求矩阵的逆需要先导入`numpy.linalg`，用`linalg`的`inv`函数来求逆。矩阵求逆的条件是矩阵的行数和列数相同。"
   ]
  },
  {
   "cell_type": "code",
   "execution_count": null,
   "id": "362d1aea",
   "metadata": {},
   "outputs": [],
   "source": [
    "import numpy as np\n",
    "import numpy.linalg as lg\n",
    "\n",
    "a = np.array([[1,2,3],[4,5,6],[7,8,9]])\n",
    "\n",
    "print(lg.inv(a))\n",
    "# 结果\n",
    "# [[ -4.50359963e+15   9.00719925e+15  -4.50359963e+15]\n",
    "#  [  9.00719925e+15  -1.80143985e+16   9.00719925e+15]\n",
    "#  [ -4.50359963e+15   9.00719925e+15  -4.50359963e+15]]\n",
    "\n",
    "a = np.eye(3) # 3阶单位矩阵\n",
    "print(lg.inv(a)) # 单位矩阵的逆为他本身\n",
    "# 结果\n",
    "# [[ 1.  0.  0.]\n",
    "#  [ 0.  1.  0.]\n",
    "#  [ 0.  0.  1.]]"
   ]
  },
  {
   "cell_type": "markdown",
   "id": "92dde9f0",
   "metadata": {},
   "source": [
    "# 矩阵信息获取（如平均值）"
   ]
  },
  {
   "cell_type": "markdown",
   "id": "0fd4712c",
   "metadata": {},
   "source": [
    "## 最大最小值\n",
    "获得矩阵中元素最大最小值的函数分别是max和min，可以获得整个矩阵、行或列的最大最小值。"
   ]
  },
  {
   "cell_type": "code",
   "execution_count": null,
   "id": "43e6c17a",
   "metadata": {},
   "outputs": [],
   "source": [
    "import numpy as np\n",
    "\n",
    "a = np.array([[1,2,3],[4,5,6]])\n",
    "print(a.max()) #获取整个矩阵的最大值 结果： 6\n",
    "print(a.min()) #结果：1\n",
    "\n",
    "# 可以指定关键字参数axis来获得行最大（小）值或列最大（小）值\n",
    "# axis=0 行方向最大（小）值，即获得每列的最大（小）值\n",
    "# axis=1 列方向最大（小）值，即获得每行的最大（小）值\n",
    "# 例如\n",
    "\n",
    "print(a.max(axis=0))\n",
    "# 结果为 [4 5 6]\n",
    "\n",
    "print(a.max(axis=1))\n",
    "# 结果为 [3 6]\n",
    "\n",
    "# 要想获得最大最小值元素所在的位置，可以通过argmax函数来获得\n",
    "print(a.argmax(axis=1))\n",
    "# 结果为 [2 2]"
   ]
  },
  {
   "cell_type": "markdown",
   "id": "a8c6b437",
   "metadata": {},
   "source": [
    "## 平均值\n",
    "获得矩阵中元素的平均值可以通过函数mean()。同样地，可以获得整个矩阵、行或列的平均值"
   ]
  },
  {
   "cell_type": "code",
   "execution_count": null,
   "id": "30c6598d",
   "metadata": {},
   "outputs": [],
   "source": [
    "import numpy as np\n",
    "\n",
    "a = np.array([[1,2,3],[4,5,6]])\n",
    "print(a.mean()) #结果为： 3.5\n",
    "\n",
    "# 同样地，可以通过关键字axis参数指定沿哪个方向获取平均值\n",
    "print(a.mean(axis=0)) # 结果 [ 2.5  3.5  4.5]\n",
    "print(a.mean(axis=1)) # 结果 [ 2.  5.]"
   ]
  },
  {
   "cell_type": "markdown",
   "id": "f6749445",
   "metadata": {},
   "source": [
    "## 方差\n",
    "方差的函数为var(),方差函数var()相当于函数mean(abs(x - x.mean())**2),其中x为矩阵。"
   ]
  },
  {
   "cell_type": "code",
   "execution_count": null,
   "id": "46a7bdac",
   "metadata": {},
   "outputs": [],
   "source": [
    "import numpy as np\n",
    "\n",
    "a = np.array([[1,2,3],[4,5,6]])\n",
    "print(a.var()) # 结果 2.91666666667\n",
    "\n",
    "print(a.var(axis=0)) # 结果 [ 2.25  2.25  2.25]\n",
    "print(a.var(axis=1)) # 结果 [ 0.66666667  0.66666667]"
   ]
  },
  {
   "cell_type": "markdown",
   "id": "119b8db2",
   "metadata": {},
   "source": [
    "## 标准差\n",
    "标准差的函数为std()。std()相当于sqrt(mean(abs(x - x.mean())**2))，或相当于sqrt(x.var())。"
   ]
  },
  {
   "cell_type": "code",
   "execution_count": null,
   "id": "82f6f032",
   "metadata": {},
   "outputs": [],
   "source": [
    "import numpy as np\n",
    "\n",
    "a = np.array([[1,2,3],[4,5,6]])\n",
    "print(a.std()) # 结果 1.70782512766\n",
    "\n",
    "print(a.std(axis=0)) # 结果 [ 1.5  1.5  1.5]\n",
    "print(a.std(axis=1)) # 结果 [ 0.81649658  0.81649658]"
   ]
  },
  {
   "cell_type": "markdown",
   "id": "90323b01",
   "metadata": {},
   "source": [
    "## 中值\n",
    "中值指的是将序列按大小顺序排列后，排在中间的那个值，如果有偶数个数，则是排在中间两个数的平均值。\n",
    "\n",
    "例如序列[5,2,6,4,2]，按大小顺序排成 [2,2,4,5,6]，排在中间的数是4，所以这个序列的中值是4。\n",
    "\n",
    "又如序列[5,2,6,4,3,2]，按大小顺序排成 [2,2,3,4,5,6]，因为有偶数个数，排在中间两个数是3、4，所以这个序列中值是3.5。\n",
    "\n",
    "中值的函数是median()，调用方法为numpy.median(x,[axis])，axis可指定轴方向，默认axis=None，对所有数去中值。"
   ]
  },
  {
   "cell_type": "code",
   "execution_count": null,
   "id": "2679fab9",
   "metadata": {},
   "outputs": [],
   "source": [
    "import numpy as np\n",
    "x = np.array([[1,2,3],[4,5,6]])\n",
    "\n",
    "print(np.median(x))  # 对所有数取中值\n",
    "# 结果\n",
    "3.5\n",
    "\n",
    "print(np.median(x,axis=0))  # 沿第一维方向取中值\n",
    "# 结果\n",
    "# [ 2.5  3.5  4.5]\n",
    "\n",
    "print(np.median(x,axis=1))  # 沿第二维方向取中值\n",
    "# 结果\n",
    "# [ 2.  5.]"
   ]
  },
  {
   "cell_type": "markdown",
   "id": "7201fbcd",
   "metadata": {},
   "source": [
    "## 求和\n",
    "矩阵求和的函数是sum()，可以对行，列，或整个矩阵求和。"
   ]
  },
  {
   "cell_type": "code",
   "execution_count": null,
   "id": "59357cd0",
   "metadata": {},
   "outputs": [],
   "source": [
    "import numpy as np\n",
    "\n",
    "a = np.array([[1,2,3],[4,5,6]])\n",
    "\n",
    "print(a.sum())           # 对整个矩阵求和\n",
    "# 结果 21\n",
    "\n",
    "print(a.sum(axis=0)) # 对行方向求和\n",
    "# 结果 [5 7 9]\n",
    "\n",
    "print(a.sum(axis=1)) # 对列方向求和\n",
    "# 结果 [ 6 15]"
   ]
  },
  {
   "cell_type": "markdown",
   "id": "ec00f935",
   "metadata": {},
   "source": [
    "## 累积和\n",
    "某位置累积和指的是该位置之前(包括该位置)所有元素的和。\n",
    "\n",
    "例如序列[1,2,3,4,5]，其累计和为[1,3,6,10,15]，即第一个元素为1，第二个元素为1+2=3，……，第五个元素为1+2+3+4+5=15。\n",
    "\n",
    "矩阵求累积和的函数是cumsum()，可以对行，列，或整个矩阵求累积和。"
   ]
  },
  {
   "cell_type": "code",
   "execution_count": null,
   "id": "77c73a0f",
   "metadata": {},
   "outputs": [],
   "source": [
    "import numpy as np\n",
    "\n",
    "a = np.array([[1,2,3],[4,5,6]])\n",
    "\n",
    "print(a.cumsum())            # 对整个矩阵求累积和\n",
    "# 结果 [ 1  3  6 10 15 21]\n",
    "\n",
    "print(a.cumsum(axis=0))  # 对行方向求累积和\n",
    "# 结果\n",
    "# [[1 2 3]\n",
    "#  [5 7 9]]\n",
    "\n",
    "print(a.cumsum(axis=1))  # 对列方向求累积和\n",
    "# 结果\n",
    "# [[ 1  3  6]\n",
    "#  [ 4  9 15]]"
   ]
  }
 ],
 "metadata": {
  "kernelspec": {
   "display_name": "Python 3",
   "language": "python",
   "name": "python3"
  },
  "language_info": {
   "codemirror_mode": {
    "name": "ipython",
    "version": 3
   },
   "file_extension": ".py",
   "mimetype": "text/x-python",
   "name": "python",
   "nbconvert_exporter": "python",
   "pygments_lexer": "ipython3",
   "version": "3.11.4"
  }
 },
 "nbformat": 4,
 "nbformat_minor": 5
}

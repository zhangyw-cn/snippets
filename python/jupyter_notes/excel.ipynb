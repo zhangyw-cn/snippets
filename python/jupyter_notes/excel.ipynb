{
 "cells": [
  {
   "cell_type": "markdown",
   "id": "f2493845",
   "metadata": {},
   "source": [
    "使用openpyxl进行excel操作"
   ]
  },
  {
   "cell_type": "code",
   "execution_count": null,
   "id": "73e0d7ce",
   "metadata": {},
   "outputs": [
    {
     "ename": "NameError",
     "evalue": "name 'Font' is not defined",
     "output_type": "error",
     "traceback": [
      "\u001b[31m---------------------------------------------------------------------------\u001b[39m",
      "\u001b[31mNameError\u001b[39m                                 Traceback (most recent call last)",
      "\u001b[36mCell\u001b[39m\u001b[36m \u001b[39m\u001b[32mIn[1]\u001b[39m\u001b[32m, line 9\u001b[39m\n\u001b[32m      6\u001b[39m wb.remove(wb.active) \n\u001b[32m      8\u001b[39m \u001b[38;5;66;03m# 字体\u001b[39;00m\n\u001b[32m----> \u001b[39m\u001b[32m9\u001b[39m header_font = \u001b[43mFont\u001b[49m(color=\u001b[33m\"\u001b[39m\u001b[33mFFFFFF\u001b[39m\u001b[33m\"\u001b[39m, bold=\u001b[38;5;28;01mTrue\u001b[39;00m)\n\u001b[32m     10\u001b[39m \u001b[38;5;66;03m# 背景\u001b[39;00m\n\u001b[32m     11\u001b[39m fill1 = PatternFill(start_color=\u001b[33m\"\u001b[39m\u001b[33m008040\u001b[39m\u001b[33m\"\u001b[39m, end_color=\u001b[33m\"\u001b[39m\u001b[33m008040\u001b[39m\u001b[33m\"\u001b[39m, fill_type=\u001b[33m\"\u001b[39m\u001b[33msolid\u001b[39m\u001b[33m\"\u001b[39m)\n",
      "\u001b[31mNameError\u001b[39m: name 'Font' is not defined"
     ]
    }
   ],
   "source": [
    "from openpyxl import Workbook\n",
    "from openpyxl.styles import PatternFill, Font\n",
    "\n",
    "if __name__ == \"__main__\":\n",
    "    wb = Workbook()\n",
    "    # 删除当前sheet, 重新创建\n",
    "    wb.remove(wb.active) \n",
    "\n",
    "    # 字体\n",
    "    header_font = Font(color=\"FFFFFF\", bold=True)\n",
    "    # 背景\n",
    "    fill1 = PatternFill(start_color=\"008040\", end_color=\"008040\", fill_type=\"solid\")\n",
    "    fill2 = PatternFill(start_color=\"004080\", end_color=\"004080\", fill_type=\"solid\")\n",
    "    fill3 = PatternFill(start_color=\"804000\", end_color=\"804000\", fill_type=\"solid\")\n",
    "    fill_src_not_exists = PatternFill(start_color=\"FFFFD2\", end_color=\"FFFFD2\", fill_type=\"solid\")\n",
    "    fill_dst_not_exists = PatternFill(start_color=\"FCBAD3\", end_color=\"FCBAD3\", fill_type=\"solid\")\n",
    "    fill_value_not_same = PatternFill(start_color=\"A8D8EA\", end_color=\"A8D8EA\", fill_type=\"solid\")\n",
    "\n",
    "    # 创建第一个sheet\n",
    "    sheet1 = wb.create_sheet(\"第一个sheet\")\n",
    "    # 设置列宽\n",
    "    sheet1.column_dimensions['A'].width = 50\n",
    "    sheet1.column_dimensions['B'].width = 50\n",
    "    sheet1.column_dimensions['C'].width = 30\n",
    "    # 设置字体和背景\n",
    "    sheet1['A1'].font = header_font\n",
    "    sheet1['A1'].fill = fill1\n",
    "    sheet1['B1'].font = header_font\n",
    "    sheet1['B1'].fill = fill2\n",
    "    sheet1['C1'].font = header_font\n",
    "    sheet1['C1'].fill = fill3\n",
    "    # 写入值\n",
    "    sheet1.cell(row=1, column=1, value=\"(A1)\")\n",
    "    sheet1.cell(row=1, column=2, value=\"(B1)\")\n",
    "    sheet1.cell(row=1, column=3, value=\"(C1)\")\n",
    "\n",
    "    wb.save(\"excel操作demo.xlsx\")"
   ]
  }
 ],
 "metadata": {
  "kernelspec": {
   "display_name": "Python 3",
   "language": "python",
   "name": "python3"
  },
  "language_info": {
   "codemirror_mode": {
    "name": "ipython",
    "version": 3
   },
   "file_extension": ".py",
   "mimetype": "text/x-python",
   "name": "python",
   "nbconvert_exporter": "python",
   "pygments_lexer": "ipython3",
   "version": "3.11.4"
  }
 },
 "nbformat": 4,
 "nbformat_minor": 5
}

{
 "cells": [
  {
   "cell_type": "markdown",
   "id": "f2493845",
   "metadata": {},
   "source": [
    "使用openpyxl进行excel操作"
   ]
  },
  {
   "cell_type": "code",
   "execution_count": 2,
   "id": "73e0d7ce",
   "metadata": {},
   "outputs": [],
   "source": [
    "from openpyxl import Workbook\n",
    "from openpyxl.styles import PatternFill, Font\n",
    "\n",
    "if __name__ == \"__main__\":\n",
    "    wb = Workbook()\n",
    "    # 删除当前sheet, 重新创建\n",
    "    wb.remove(wb.active) \n",
    "\n",
    "    # 字体\n",
    "    header_font = Font(color=\"FFFFFF\", bold=True)\n",
    "    # 背景\n",
    "    fill1 = PatternFill(start_color=\"008040\", end_color=\"008040\", fill_type=\"solid\")\n",
    "    fill2 = PatternFill(start_color=\"004080\", end_color=\"004080\", fill_type=\"solid\")\n",
    "    fill3 = PatternFill(start_color=\"804000\", end_color=\"804000\", fill_type=\"solid\")\n",
    "    fill_src_not_exists = PatternFill(start_color=\"FFFFD2\", end_color=\"FFFFD2\", fill_type=\"solid\")\n",
    "    fill_dst_not_exists = PatternFill(start_color=\"FCBAD3\", end_color=\"FCBAD3\", fill_type=\"solid\")\n",
    "    fill_value_not_same = PatternFill(start_color=\"A8D8EA\", end_color=\"A8D8EA\", fill_type=\"solid\")\n",
    "\n",
    "    # 创建第一个sheet\n",
    "    sheet1 = wb.create_sheet(\"第一个sheet\")\n",
    "    # 设置列宽\n",
    "    sheet1.column_dimensions['A'].width = 50\n",
    "    sheet1.column_dimensions['B'].width = 50\n",
    "    sheet1.column_dimensions['C'].width = 30\n",
    "    # 设置字体和背景\n",
    "    sheet1['A1'].font = header_font\n",
    "    sheet1['A1'].fill = fill1\n",
    "    sheet1['B1'].font = header_font\n",
    "    sheet1['B1'].fill = fill2\n",
    "    sheet1['C1'].font = header_font\n",
    "    sheet1['C1'].fill = fill3\n",
    "    # 写入值\n",
    "    sheet1.cell(row=1, column=1, value=\"(A1)\")\n",
    "    sheet1.cell(row=1, column=2, value=\"(B1)\")\n",
    "    sheet1.cell(row=1, column=3, value=\"(C1)\")\n",
    "\n",
    "    wb.save(\"excel操作demo.xlsx\")"
   ]
  }
 ],
 "metadata": {
  "kernelspec": {
   "display_name": "Python 3",
   "language": "python",
   "name": "python3"
  },
  "language_info": {
   "codemirror_mode": {
    "name": "ipython",
    "version": 3
   },
   "file_extension": ".py",
   "mimetype": "text/x-python",
   "name": "python",
   "nbconvert_exporter": "python",
   "pygments_lexer": "ipython3",
   "version": "3.11.4"
  }
 },
 "nbformat": 4,
 "nbformat_minor": 5
}
